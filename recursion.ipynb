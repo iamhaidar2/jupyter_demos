{
 "cells": [
  {
   "cell_type": "markdown",
   "metadata": {},
   "source": [
    "# Recursion"
   ]
  },
  {
   "cell_type": "code",
   "execution_count": 1,
   "metadata": {},
   "outputs": [],
   "source": [
    "from time import time\n",
    "import numpy as np \n",
    "import matplotlib.pyplot as plt\n"
   ]
  },
  {
   "cell_type": "markdown",
   "metadata": {},
   "source": [
    "## timing - append: list vs array"
   ]
  },
  {
   "cell_type": "code",
   "execution_count": 2,
   "metadata": {},
   "outputs": [
    {
     "name": "stdout",
     "output_type": "stream",
     "text": [
      "duration:\n",
      " list 0.00016689300537109375\n",
      "array 0.014004945755004883\n"
     ]
    }
   ],
   "source": [
    "def append_time_list_vs_array(number_of_times=1000):\n",
    "    lis = []\n",
    "    arr = np.empty(0)\n",
    "    \n",
    "    t0 = time()\n",
    "    for i in range(number_of_times):\n",
    "        lis.append(1)\n",
    "    t1 = time()\n",
    "    for i in range(number_of_times):\n",
    "        arr = np.append(arr,1)\n",
    "    t2 = time()\n",
    "    return t1-t0, t2-t1\n",
    "\n",
    "t_list, t_array = append_time_list_vs_array()\n",
    "print(f'duration:\\n list {t_list}\\narray {t_array}')"
   ]
  },
  {
   "cell_type": "code",
   "execution_count": 3,
   "metadata": {},
   "outputs": [
    {
     "name": "stdout",
     "output_type": "stream",
     "text": [
      "CPU times: user 5.8 s, sys: 54.1 ms, total: 5.85 s\n",
      "Wall time: 5.8 s\n"
     ]
    }
   ],
   "source": [
    "%%time\n",
    "\n",
    "list_append_to_lists = []\n",
    "list_append_to_arrays = []\n",
    "\n",
    "max = 1000000\n",
    "step = 1000\n",
    "\n",
    "for i in range(0,max, step):\n",
    "    t_list, t_array = append_time_list_vs_array()\n",
    "    list_append_to_lists.append(t_list)\n",
    "    list_append_to_arrays.append(t_array)\n",
    "    "
   ]
  },
  {
   "cell_type": "code",
   "execution_count": 4,
   "metadata": {},
   "outputs": [
    {
     "data": {
      "image/png": "[encoded data removed]",
      "text/plain": [
       "<Figure size 432x288 with 1 Axes>"
      ]
     },
     "metadata": {
      "needs_background": "light"
     },
     "output_type": "display_data"
    }
   ],
   "source": [
    "plt.plot(range(0,max, step),np.array(list_append_to_arrays)/np.array(list_append_to_lists))\n",
    "plt.title('append method: array / list')\n",
    "plt.ylabel('execution time ratio')\n",
    "plt.xlabel('number of executions');"
   ]
  },
  {
   "cell_type": "markdown",
   "metadata": {},
   "source": [
    "### Faculty"
   ]
  },
  {
   "cell_type": "code",
   "execution_count": 5,
   "metadata": {},
   "outputs": [],
   "source": [
    "n = 10"
   ]
  },
  {
   "cell_type": "code",
   "execution_count": 6,
   "metadata": {},
   "outputs": [
    {
     "name": "stdout",
     "output_type": "stream",
     "text": [
      "0! = 1\n",
      "1! = 1\n",
      "2! = 2\n",
      "3! = 6\n",
      "4! = 24\n",
      "5! = 120\n",
      "6! = 720\n",
      "7! = 5040\n",
      "8! = 40320\n",
      "9! = 362880\n"
     ]
    }
   ],
   "source": [
    "def fac(n: int):\n",
    "    global stack_fac\n",
    "    stack_fac+=1\n",
    "    if n<1:\n",
    "        return 1\n",
    "    return n * fac(n-1)\n",
    "\n",
    "stack_list_fac = []\n",
    "\n",
    "for i in range(n):\n",
    "    stack_fac = 0\n",
    "    print(f'{i}! = {fac(i)}')\n",
    "    stack_list_fac.append(stack_fac) \n",
    "    "
   ]
  },
  {
   "cell_type": "markdown",
   "metadata": {},
   "source": [
    "### Fibonacci"
   ]
  },
  {
   "cell_type": "code",
   "execution_count": 7,
   "metadata": {},
   "outputs": [
    {
     "name": "stdout",
     "output_type": "stream",
     "text": [
      "0\n",
      "1\n",
      "1\n",
      "2\n",
      "3\n",
      "5\n",
      "8\n",
      "13\n",
      "21\n",
      "34\n"
     ]
    }
   ],
   "source": [
    "def fibo(n: int):\n",
    "    global stack_fibo\n",
    "    stack_fibo+=1\n",
    "    if n == 0:\n",
    "        return 0\n",
    "    if n == 1:\n",
    "        return 1\n",
    "    return fibo(n-1) + fibo(n-2)\n",
    "\n",
    "stack_list_fibo = []\n",
    "for i in range(n):\n",
    "    stack_fibo = 0\n",
    "    print(f'{fibo(i)}')\n",
    "    stack_list_fibo.append(stack_fibo)"
   ]
  },
  {
   "cell_type": "code",
   "execution_count": 8,
   "metadata": {},
   "outputs": [
    {
     "data": {
      "image/png": "[encoded data removed]",
      "text/plain": [
       "<Figure size 432x288 with 1 Axes>"
      ]
     },
     "metadata": {
      "needs_background": "light"
     },
     "output_type": "display_data"
    }
   ],
   "source": [
    "plt.bar(range(1,len(stack_list_fibo)+1),stack_list_fibo, label = 'Fibonacci')\n",
    "plt.bar(range(1,len(stack_list_fac)+1),stack_list_fac, label = 'Faculty')\n",
    "plt.title('stack height vs. n')\n",
    "plt.legend();"
   ]
  },
  {
   "cell_type": "code",
   "execution_count": null,
   "metadata": {},
   "outputs": [],
   "source": []
  }
 ],
 "metadata": {
  "kernelspec": {
   "display_name": "Python 3",
   "language": "python",
   "name": "python3"
  },
  "language_info": {
   "codemirror_mode": {
    "name": "ipython",
    "version": 3
   },
   "file_extension": ".py",
   "mimetype": "text/x-python",
   "name": "python",
   "nbconvert_exporter": "python",
   "pygments_lexer": "ipython3",
   "version": "3.6.7"
  }
 },
 "nbformat": 4,
 "nbformat_minor": 2
}
