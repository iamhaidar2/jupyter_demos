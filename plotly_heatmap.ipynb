{
 "cells": [
  {
   "cell_type": "markdown",
   "metadata": {},
   "source": [
    "# Heatmap Object with binning"
   ]
  },
  {
   "cell_type": "code",
   "execution_count": 1,
   "metadata": {},
   "outputs": [],
   "source": [
    "import numpy as np\n",
    "import matplotlib.pyplot as plt\n",
    "import plotly.express as px\n",
    "\n"
   ]
  },
  {
   "cell_type": "markdown",
   "metadata": {},
   "source": [
    "### Utility funcion"
   ]
  },
  {
   "cell_type": "code",
   "execution_count": 2,
   "metadata": {},
   "outputs": [],
   "source": [
    "def create_fake_trace(length, A=1, shift=0, noise=None):\n",
    "    \"\"\" Make a shifted sinus with noise \"\"\"\n",
    "    \n",
    "    if noise is None:\n",
    "        return A * np.sin(np.arange(0, length, 1)/10+shift)\n",
    "    else:\n",
    "        mu, sigma = 0, noise\n",
    "        return A * np.sin(np.arange(0, length, 1)/10+shift) + np.random.normal(mu, sigma, length)\n",
    "    "
   ]
  },
  {
   "cell_type": "markdown",
   "metadata": {},
   "source": [
    "### create fake data"
   ]
  },
  {
   "cell_type": "code",
   "execution_count": 3,
   "metadata": {},
   "outputs": [],
   "source": [
    "scale, offset, quantity = 10, -5, 1000\n",
    "delays = scale * np.random.random(quantity) + offset\n",
    "\n",
    "keys = ['delay','trace']\n",
    "data = {key: [] for key in keys}\n",
    "\n",
    "length_of_trace = 300\n",
    "for delay in delays:\n",
    "    trace = create_fake_trace(length_of_trace, shift=delay, noise=0.3)\n",
    "    data['delay'].append(delay)\n",
    "    data['trace'].append(trace)\n"
   ]
  },
  {
   "cell_type": "markdown",
   "metadata": {},
   "source": [
    "### Heatmap"
   ]
  },
  {
   "cell_type": "code",
   "execution_count": 19,
   "metadata": {},
   "outputs": [],
   "source": [
    "class Heatmap():\n",
    "    \"\"\" Heatmap object which can be binned \n",
    "    \n",
    "    bins = [first_bin, last_bin, bin_width]\n",
    "    \"\"\"\n",
    "    \n",
    "    def __init__(self, traces, delays,  binning):\n",
    "        self.delays = delays\n",
    "        self.traces = traces\n",
    "        self.__create_image(binning)\n",
    "        \n",
    "    def __create_image(self, binning):\n",
    "        \n",
    "        self.bins = np.linspace(binning[0], binning[1], (binning[1]-binning[0])/binning[2]+1)      \n",
    "        self.image = np.zeros((len(self.traces[0]), len(self.bins)) , dtype = float)\n",
    "\n",
    "\n",
    "        for i in range(len(self.bins)):\n",
    "            trace_temp = []\n",
    "            for j in range(len(self.delays)):\n",
    "                if self.delays[j] >= self.bins[i]-binning[2]/2 and self.delays[j] < self.bins[i]+binning[2]/2:\n",
    "                    trace_temp.append(self.traces[j])\n",
    "            self.image[:,i] = np.average(trace_temp, axis = 0)\n",
    "            \n",
    "    def show(self, colorbar=False, colorscale='viridis'):      \n",
    "        fig = px.imshow(self.image)\n",
    "        fig.update_layout(xaxis = dict(ticks=\"outside\",\n",
    "                                       scaleanchor = \"y\", \n",
    "                                       scaleratio = self.image.shape[0]/self.image.shape[1]),\n",
    "                         coloraxis = {'colorscale':colorscale,\n",
    "                                      'showscale':colorbar})\n",
    "        \n",
    "        print(len(self.bins))\n",
    "        print(self.bins)\n",
    "        \n",
    "#         fig.update_xaxes(ticktext=self.bins,\n",
    "#                          tickvals=self.bins - self.bins[0])\n",
    "        \n",
    "        fig.show()\n",
    "\n",
    "        \n"
   ]
  },
  {
   "cell_type": "markdown",
   "metadata": {},
   "source": [
    "### Demo"
   ]
  },
  {
   "cell_type": "code",
   "execution_count": null,
   "metadata": {},
   "outputs": [
    {
     "name": "stdout",
     "output_type": "stream",
     "text": [
      "101\n",
      "[-5.  -4.9 -4.8 -4.7 -4.6 -4.5 -4.4 -4.3 -4.2 -4.1 -4.  -3.9 -3.8 -3.7\n",
      " -3.6 -3.5 -3.4 -3.3 -3.2 -3.1 -3.  -2.9 -2.8 -2.7 -2.6 -2.5 -2.4 -2.3\n",
      " -2.2 -2.1 -2.  -1.9 -1.8 -1.7 -1.6 -1.5 -1.4 -1.3 -1.2 -1.1 -1.  -0.9\n",
      " -0.8 -0.7 -0.6 -0.5 -0.4 -0.3 -0.2 -0.1  0.   0.1  0.2  0.3  0.4  0.5\n",
      "  0.6  0.7  0.8  0.9  1.   1.1  1.2  1.3  1.4  1.5  1.6  1.7  1.8  1.9\n",
      "  2.   2.1  2.2  2.3  2.4  2.5  2.6  2.7  2.8  2.9  3.   3.1  3.2  3.3\n",
      "  3.4  3.5  3.6  3.7  3.8  3.9  4.   4.1  4.2  4.3  4.4  4.5  4.6  4.7\n",
      "  4.8  4.9  5. ]\n"
     ]
    }
   ],
   "source": [
    "bins = [-5, 5, 0.1] \n",
    "\n",
    "heatmap = Heatmap(data['trace'], data['delay'], bins)\n",
    "heatmap.show()"
   ]
  },
  {
   "cell_type": "code",
   "execution_count": null,
   "metadata": {},
   "outputs": [],
   "source": []
  }
 ],
 "metadata": {
  "kernelspec": {
   "display_name": "test_plotting",
   "language": "python",
   "name": "test_plotting"
  },
  "language_info": {
   "codemirror_mode": {
    "name": "ipython",
    "version": 3
   },
   "file_extension": ".py",
   "mimetype": "text/x-python",
   "name": "python",
   "nbconvert_exporter": "python",
   "pygments_lexer": "ipython3",
   "version": "3.8.1"
  }
 },
 "nbformat": 4,
 "nbformat_minor": 2
}
